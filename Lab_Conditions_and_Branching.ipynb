{
  "nbformat": 4,
  "nbformat_minor": 0,
  "metadata": {
    "colab": {
      "provenance": [],
      "authorship_tag": "ABX9TyO7Etz0NGjTpY3/fp0qRbrX",
      "include_colab_link": true
    },
    "kernelspec": {
      "name": "python3",
      "display_name": "Python 3"
    },
    "language_info": {
      "name": "python"
    }
  },
  "cells": [
    {
      "cell_type": "markdown",
      "metadata": {
        "id": "view-in-github",
        "colab_type": "text"
      },
      "source": [
        "<a href=\"https://colab.research.google.com/github/Branre42/LabConditions-Branching/blob/main/Lab_Conditions_and_Branching.ipynb\" target=\"_parent\"><img src=\"https://colab.research.google.com/assets/colab-badge.svg\" alt=\"Open In Colab\"/></a>"
      ]
    },
    {
      "cell_type": "code",
      "execution_count": 44,
      "metadata": {
        "colab": {
          "base_uri": "https://localhost:8080/"
        },
        "id": "Vcq8biu87Vd0",
        "outputId": "2504ff36-9545-4b82-ad06-abe4c3352ff7"
      },
      "outputs": [
        {
          "output_type": "stream",
          "name": "stdout",
          "text": [
            "Annie was born in a leap year\n"
          ]
        }
      ],
      "source": [
        "# Write your code below and press Shift+Enter to execute\n",
        "#1. There are 2 sisters, Annie and Jane, born in 1996 and 1999 respectively.\n",
        "#They want to know who was born in a leap year. Write an if-else statement to determine who was born in a leap year.\n",
        "a = 1996\n",
        "j = 1999\n",
        "x = 4\n",
        "\n",
        "y = a%x\n",
        "z = j%x\n",
        "\n",
        "\n",
        "if y == 0:\n",
        "  print ('Annie was born in a leap year')\n",
        "elif z == 0:\n",
        " print ('Jane was born in a leap year')\n",
        "else:\n",
        "    print ('Anybody was not born in a leap year')\n",
        "\n",
        "\n",
        "\n",
        "\n",
        "\n",
        "\n",
        "\n",
        "\n"
      ]
    },
    {
      "cell_type": "code",
      "source": [
        "# 2. In a school canteen, children under the age of 9 are only given milk porridge for breakfast.\n",
        "# Children from 10 to 14 are given a sandwich, and children from 15 to 17 are given a burger.\n",
        "# The canteen master asks the age of the student and gives them breakfast accordingly. Sam's age is 10.\n",
        "#  Use if-else statement to determine what the canteen master will offer to him.¶\n",
        "\n",
        "Sam = 10\n",
        "if Sam <= 9:\n",
        "  print ('Give milk')\n",
        "elif Sam >= 10 or Sam <= 14:\n",
        "  print ('Give sandwich')\n",
        "elif Sam >= 15 or Sam <= 17:\n",
        "  print ('Give a burger')\n",
        "\n",
        "\n",
        "\n",
        "\n"
      ],
      "metadata": {
        "colab": {
          "base_uri": "https://localhost:8080/"
        },
        "id": "1KgszhzV_OSg",
        "outputId": "4bc7ca6e-01fc-4a98-e294-7020022bc036"
      },
      "execution_count": 43,
      "outputs": [
        {
          "output_type": "stream",
          "name": "stdout",
          "text": [
            "Give sandwich\n"
          ]
        }
      ]
    }
  ]
}